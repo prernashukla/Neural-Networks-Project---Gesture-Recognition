{
 "cells": [
  {
   "cell_type": "markdown",
   "metadata": {},
   "source": [
    "# Gesture Recognition Case Study\n",
    "-----\n",
    "### Problem Statement: \n",
    "\n",
    "Imagine you are working as a data scientist at a home electronics company which manufactures state of the art smart televisions. You want to develop a cool feature in the smart-TV that can recognise five different gestures performed by the user which will help users control the TV without using a remote.\n",
    "\n",
    "The gestures are continuously monitored by the webcam mounted on the TV. Each gesture corresponds to a specific command:\n",
    "\n",
    "Thumbs up:  Increase the volume\n",
    "Thumbs down: Decrease the volume\n",
    "Left swipe: 'Jump' backwards 10 seconds\n",
    "Right swipe: 'Jump' forward 10 seconds  \n",
    "Stop: Pause the movie\n",
    "\n",
    "----\n",
    " "
   ]
  },
  {
   "cell_type": "code",
   "execution_count": 5,
   "metadata": {},
   "outputs": [],
   "source": [
    "import numpy as np\n",
    "import os\n",
    "from PIL import Image, ImageFilter, ImageEnhance\n",
    "import matplotlib.pyplot as plt\n",
    "from cv2 import imread, resize\n",
    "import datetime\n",
    "import os\n",
    "%matplotlib inline\n",
    "\n",
    "#Ignore warnings\n",
    "import warnings\n",
    "warnings.filterwarnings(\"ignore\")"
   ]
  },
  {
   "cell_type": "code",
   "execution_count": 6,
   "metadata": {},
   "outputs": [],
   "source": [
    "import zipfile as zf"
   ]
  },
  {
   "cell_type": "code",
   "execution_count": 7,
   "metadata": {},
   "outputs": [],
   "source": [
    "#files = zf.ZipFile(\"Project_data.zip\", 'r')\n",
    "#files.extractall('Project_data')"
   ]
  },
  {
   "cell_type": "code",
   "execution_count": 8,
   "metadata": {},
   "outputs": [
    {
     "name": "stdout",
     "output_type": "stream",
     "text": [
      "WARNING:tensorflow:From C:\\Users\\prern\\anaconda\\lib\\site-packages\\keras\\src\\losses.py:2976: The name tf.losses.sparse_softmax_cross_entropy is deprecated. Please use tf.compat.v1.losses.sparse_softmax_cross_entropy instead.\n",
      "\n"
     ]
    }
   ],
   "source": [
    "import os\n",
    "os.environ['PYTHONHASHSEED']=\"30\"\n",
    "np.random.seed(50)\n",
    "import random as rn\n",
    "rn.seed(30)\n",
    "import tensorflow as tf\n",
    "tf.random.set_seed(30)\n",
    "from keras import backend as K"
   ]
  },
  {
   "cell_type": "code",
   "execution_count": 9,
   "metadata": {},
   "outputs": [],
   "source": [
    "from tensorflow.keras.preprocessing.image import img_to_array, load_img\n",
    "from tensorflow.keras.preprocessing.image import ImageDataGenerator"
   ]
  },
  {
   "cell_type": "markdown",
   "metadata": {},
   "source": [
    "In this segment, extract the names of the training and validation folders while also configuring the `batch_size`. It's important to mention that the batch size is optimized to fully leverage the GPU capacity. The approach involves progressively increasing the batch size until an error is encountered, ensuring efficient GPU utilization."
   ]
  },
  {
   "cell_type": "code",
   "execution_count": 10,
   "metadata": {},
   "outputs": [],
   "source": [
    "#train_doc, val_doc = get_data('Project_data/', ablation=None)\n",
    "train_doc = np.random.permutation(open('Project_data/train.csv').readlines())\n",
    "val_doc = np.random.permutation(open('Project_data/val.csv').readlines())\n",
    "batch_size = 32 \n",
    "enable_augmentation = False # augmentation of Data\n",
    "# sequence ids\n",
    "# selecting alternate frames from 7 to 26.\n",
    "seq_idx = range(7,26,2)\n",
    "# image dimensions\n",
    "dim_x, dim_y = 120, 120"
   ]
  },
  {
   "cell_type": "markdown",
   "metadata": {},
   "source": [
    "## Generator\n",
    "This is one of the most important part of the code. The overall structure of the generator has been given. In the generator, you are going to preprocess the images as you have images of 2 different dimensions as well as create a batch of video frames. You have to experiment with `img_idx`, `y`,`z` and normalization such that you get high accuracy."
   ]
  },
  {
   "cell_type": "code",
   "execution_count": 14,
   "metadata": {
    "scrolled": true
   },
   "outputs": [],
   "source": [
    "def generator(source_path, folder_list, batch_size, is_train=False, augmentation=False, debug=False):\n",
    "    img_idx = seq_idx\n",
    "    x, y, z = len(img_idx), dim_x, dim_y\n",
    "    \n",
    "    while True:\n",
    "        t = np.concatenate([np.random.permutation(folder_list)] * (2 if is_train and augmentation else 1))\n",
    "        num_batches = len(t) // batch_size + (1 if len(t) % batch_size != 0 else 0)\n",
    "        \n",
    "        for batch in range(num_batches):\n",
    "            batch_data = np.zeros((batch_size, x, y, z, 3))\n",
    "            batch_labels = np.zeros((batch_size, 5))\n",
    "            \n",
    "            for folder in range(batch_size):\n",
    "                folder_idx = folder + (batch * batch_size)\n",
    "                if folder_idx >= len(t):\n",
    "                    break\n",
    "                folder_str = t[folder_idx]\n",
    "                \n",
    "                imgs = os.listdir(os.path.join(source_path, folder_str.split(';')[0]))\n",
    "                \n",
    "                aug_type = np.random.randint(0, 5) if is_train and augmentation and np.random.randint(0, 2) == 1 else None\n",
    "\n",
    "                for idx, item in enumerate(img_idx):\n",
    "                    image_path = os.path.join(source_path, folder_str.strip().split(';')[0], imgs[item])\n",
    "                    image = img_to_array(load_img(image_path)).astype(np.float32)\n",
    "\n",
    "                    if debug:\n",
    "                        plt.subplot(2, x, idx+1)\n",
    "                        plt.imshow(image.astype('uint8'))\n",
    "\n",
    "                    image = image[:, :image.shape[0]] if image.shape[1] > image.shape[0] else image[:image.shape[1], :]\n",
    "\n",
    "                    resized_im = resize(image, (y, z))\n",
    "\n",
    "                    if aug_type is not None:\n",
    "                        aug = ImageDataGenerator()\n",
    "                        if aug_type == 4:  # Brightness enhancement\n",
    "                            aug_brightness = np.random.uniform(1.0, 1.5)\n",
    "                            aug = ImageDataGenerator(brightness_range=(aug_brightness, aug_brightness))\n",
    "\n",
    "                        resized_im = aug.random_transform(resized_im)\n",
    "\n",
    "                    if debug:\n",
    "                        plt.subplot(2, x, idx + x + 1)\n",
    "                        plt.imshow(resized_im)\n",
    "\n",
    "                    batch_data[folder, idx] = resized_im / 255\n",
    "\n",
    "                batch_labels[folder, int(folder_str.strip().split(';')[2])] = 1\n",
    "            \n",
    "            yield batch_data, batch_labels"
   ]
  },
  {
   "cell_type": "markdown",
   "metadata": {},
   "source": [
    "Note here that a video is represented above in the generator as (number of images, height, width, number of channels). Take this into consideration while creating the model architecture."
   ]
  },
  {
   "cell_type": "code",
   "execution_count": 15,
   "metadata": {},
   "outputs": [
    {
     "name": "stdout",
     "output_type": "stream",
     "text": [
      "Count of training sequences   = 663\n",
      "Count of validation sequences = 100\n",
      "Number of epochs              = 50\n"
     ]
    }
   ],
   "source": [
    "curr_dt_time = datetime.datetime.now()\n",
    "train_path = 'Project_data/train' \n",
    "val_path =  'Project_data/val'\n",
    "\n",
    "num_train_sequences = len(train_doc)\n",
    "print('Count of training sequences   =', num_train_sequences)\n",
    "num_val_sequences = len(val_doc)\n",
    "print('Count of validation sequences =', num_val_sequences)\n",
    "num_epochs = 50\n",
    "print ('Number of epochs              =', num_epochs)"
   ]
  },
  {
   "cell_type": "code",
   "execution_count": 16,
   "metadata": {
    "scrolled": false
   },
   "outputs": [
    {
     "name": "stderr",
     "output_type": "stream",
     "text": [
      "Clipping input data to the valid range for imshow with RGB data ([0..1] for floats or [0..255] for integers).\n",
      "Clipping input data to the valid range for imshow with RGB data ([0..1] for floats or [0..255] for integers).\n",
      "Clipping input data to the valid range for imshow with RGB data ([0..1] for floats or [0..255] for integers).\n",
      "Clipping input data to the valid range for imshow with RGB data ([0..1] for floats or [0..255] for integers).\n",
      "Clipping input data to the valid range for imshow with RGB data ([0..1] for floats or [0..255] for integers).\n",
      "Clipping input data to the valid range for imshow with RGB data ([0..1] for floats or [0..255] for integers).\n",
      "Clipping input data to the valid range for imshow with RGB data ([0..1] for floats or [0..255] for integers).\n",
      "Clipping input data to the valid range for imshow with RGB data ([0..1] for floats or [0..255] for integers).\n",
      "Clipping input data to the valid range for imshow with RGB data ([0..1] for floats or [0..255] for integers).\n",
      "Clipping input data to the valid range for imshow with RGB data ([0..1] for floats or [0..255] for integers).\n"
     ]
    },
    {
     "data": {
      "image/png": "[encoded data removed]",
      "text/plain": [
       "<Figure size 640x480 with 20 Axes>"
      ]
     },
     "metadata": {},
     "output_type": "display_data"
    }
   ],
   "source": [
    "# testing generative \n",
    "test_gen = generator(train_path, train_doc, 1, is_train = True, augmentation = True, debug = True)\n",
    "d = next(test_gen)[0]"
   ]
  },
  {
   "cell_type": "markdown",
   "metadata": {},
   "source": [
    "## Model\n",
    "Here you make the model using different functionalities that Keras provides. Remember to use `Conv3D` and `MaxPooling3D` and not `Conv2D` and `Maxpooling2D` for a 3D convolution model. You would want to use `TimeDistributed` while building a Conv2D + RNN model. Also remember that the last layer is the softmax. Design the network in such a way that the model is able to give good accuracy on the least number of parameters so that it can fit in the memory of the webcam."
   ]
  },
  {
   "cell_type": "code",
   "execution_count": 17,
   "metadata": {},
   "outputs": [],
   "source": [
    "from keras.models import Sequential, Model\n",
    "from keras.layers import Dense, GRU, Flatten, TimeDistributed, Bidirectional, BatchNormalization, Activation, Dropout, GlobalAveragePooling2D, GlobalAveragePooling3D, ConvLSTM2D\n",
    "from keras.layers import Conv2D, Conv3D, MaxPooling2D, MaxPooling3D\n",
    "from keras.callbacks import ModelCheckpoint, ReduceLROnPlateau\n",
    "from keras import optimizers\n",
    "\n",
    "#input shape for the st layer\n",
    "input_shape = (len(seq_idx), dim_x, dim_y, 3)\n",
    "np.random.seed(30)\n"
   ]
  },
  {
   "cell_type": "markdown",
   "metadata": {},
   "source": [
    "## Model creation"
   ]
  },
  {
   "cell_type": "code",
   "execution_count": 18,
   "metadata": {},
   "outputs": [
    {
     "name": "stdout",
     "output_type": "stream",
     "text": [
      "WARNING:tensorflow:From C:\\Users\\prern\\anaconda\\lib\\site-packages\\keras\\src\\backend.py:873: The name tf.get_default_graph is deprecated. Please use tf.compat.v1.get_default_graph instead.\n",
      "\n",
      "WARNING:tensorflow:From C:\\Users\\prern\\anaconda\\lib\\site-packages\\keras\\src\\layers\\normalization\\batch_normalization.py:979: The name tf.nn.fused_batch_norm is deprecated. Please use tf.compat.v1.nn.fused_batch_norm instead.\n",
      "\n"
     ]
    }
   ],
   "source": [
    "model = Sequential()\n",
    "\n",
    "# Convolutional layers with TimeDistributed\n",
    "model.add(TimeDistributed(Conv2D(8, (3, 3), activation='relu'), input_shape=input_shape))\n",
    "model.add(BatchNormalization())\n",
    "\n",
    "model.add(TimeDistributed(Conv2D(16, (3, 3), activation='relu')))\n",
    "model.add(BatchNormalization())\n",
    "\n",
    "# ConvLSTM2D layer\n",
    "model.add(ConvLSTM2D(8, kernel_size=3, return_sequences=False))\n",
    "model.add(BatchNormalization())\n",
    "\n",
    "# TimeDistributed Dense layer\n",
    "model.add(TimeDistributed(Dense(64, activation='relu')))\n",
    "model.add(BatchNormalization())\n",
    "\n",
    "# Global Average Pooling and Dense layers\n",
    "model.add(GlobalAveragePooling2D())\n",
    "model.add(Dense(64, activation='relu'))\n",
    "model.add(Dense(5, activation='softmax'))"
   ]
  },
  {
   "cell_type": "markdown",
   "metadata": {},
   "source": [
    "Now that you have written the model, the next step is to `compile` the model. When you print the `summary` of the model, you'll see the total number of parameters you have to train."
   ]
  },
  {
   "cell_type": "code",
   "execution_count": 19,
   "metadata": {
    "scrolled": false
   },
   "outputs": [
    {
     "name": "stderr",
     "output_type": "stream",
     "text": [
      "WARNING:absl:`lr` is deprecated in Keras optimizer, please use `learning_rate` or use the legacy optimizer, e.g.,tf.keras.optimizers.legacy.Adam.\n"
     ]
    },
    {
     "name": "stdout",
     "output_type": "stream",
     "text": [
      "Model: \"sequential\"\n",
      "_________________________________________________________________\n",
      " Layer (type)                Output Shape              Param #   \n",
      "=================================================================\n",
      " time_distributed (TimeDist  (None, 10, 118, 118, 8)   224       \n",
      " ributed)                                                        \n",
      "                                                                 \n",
      " batch_normalization (Batch  (None, 10, 118, 118, 8)   32        \n",
      " Normalization)                                                  \n",
      "                                                                 \n",
      " time_distributed_1 (TimeDi  (None, 10, 116, 116, 16   1168      \n",
      " stributed)                  )                                   \n",
      "                                                                 \n",
      " batch_normalization_1 (Bat  (None, 10, 116, 116, 16   64        \n",
      " chNormalization)            )                                   \n",
      "                                                                 \n",
      " conv_lstm2d (ConvLSTM2D)    (None, 114, 114, 8)       6944      \n",
      "                                                                 \n",
      " batch_normalization_2 (Bat  (None, 114, 114, 8)       32        \n",
      " chNormalization)                                                \n",
      "                                                                 \n",
      " time_distributed_2 (TimeDi  (None, 114, 114, 64)      576       \n",
      " stributed)                                                      \n",
      "                                                                 \n",
      " batch_normalization_3 (Bat  (None, 114, 114, 64)      256       \n",
      " chNormalization)                                                \n",
      "                                                                 \n",
      " global_average_pooling2d (  (None, 64)                0         \n",
      " GlobalAveragePooling2D)                                         \n",
      "                                                                 \n",
      " dense_1 (Dense)             (None, 64)                4160      \n",
      "                                                                 \n",
      " dense_2 (Dense)             (None, 5)                 325       \n",
      "                                                                 \n",
      "=================================================================\n",
      "Total params: 13781 (53.83 KB)\n",
      "Trainable params: 13589 (53.08 KB)\n",
      "Non-trainable params: 192 (768.00 Byte)\n",
      "_________________________________________________________________\n",
      "None\n"
     ]
    }
   ],
   "source": [
    "optimiser = optimizers.Adam(lr=0.01)\n",
    "model.compile(optimizer=optimiser, loss='categorical_crossentropy', metrics=['categorical_accuracy'])\n",
    "print(model.summary())"
   ]
  },
  {
   "cell_type": "markdown",
   "metadata": {},
   "source": [
    "Let us create the `train_generator` and the `val_generator` which will be used in `.fit_generator`."
   ]
  },
  {
   "cell_type": "code",
   "execution_count": 20,
   "metadata": {},
   "outputs": [],
   "source": [
    "train_generator = generator(train_path, train_doc, batch_size, is_train = True)\n",
    "val_generator = generator(val_path, val_doc, batch_size)"
   ]
  },
  {
   "cell_type": "code",
   "execution_count": 21,
   "metadata": {},
   "outputs": [
    {
     "name": "stdout",
     "output_type": "stream",
     "text": [
      "WARNING:tensorflow:`period` argument is deprecated. Please use `save_freq` to specify the frequency in number of batches seen.\n"
     ]
    },
    {
     "name": "stderr",
     "output_type": "stream",
     "text": [
      "WARNING:tensorflow:`period` argument is deprecated. Please use `save_freq` to specify the frequency in number of batches seen.\n"
     ]
    }
   ],
   "source": [
    "model_name = 'model_init' + '_' + str(curr_dt_time).replace(' ','').replace(':','_') + '/'\n",
    "\n",
    "if not os.path.exists(model_name):\n",
    "    os.mkdir(model_name)\n",
    "\n",
    "filepath = model_name + 'model-{epoch:05d}-{loss:.5f}-{categorical_accuracy:.5f}-{val_loss:.5f}-{val_categorical_accuracy:.5f}.h5'\n",
    "\n",
    "checkpoint = ModelCheckpoint(filepath, monitor='val_loss', verbose=1, save_best_only=False, save_weights_only=False, mode='auto', period=1)\n",
    "\n",
    "LR = ReduceLROnPlateau(monitor='val_loss', factor=0.2, patience=5, min_lr=0.001, verbose=1)\n",
    "\n",
    "callbacks_list = [checkpoint, LR]"
   ]
  },
  {
   "cell_type": "markdown",
   "metadata": {},
   "source": [
    "The `steps_per_epoch` and `validation_steps` are used by `fit_generator` to decide the number of next() calls it need to make."
   ]
  },
  {
   "cell_type": "code",
   "execution_count": 22,
   "metadata": {},
   "outputs": [],
   "source": [
    "if (num_train_sequences%batch_size) == 0:\n",
    "    steps_per_epoch = int(num_train_sequences/batch_size)\n",
    "else:\n",
    "    steps_per_epoch = (num_train_sequences//batch_size) + 1\n",
    "\n",
    "if (num_val_sequences%batch_size) == 0:\n",
    "    validation_steps = int(num_val_sequences/batch_size)\n",
    "else:\n",
    "    validation_steps = (num_val_sequences//batch_size) + 1"
   ]
  },
  {
   "cell_type": "markdown",
   "metadata": {},
   "source": [
    "Let us now fit the model. This will start training the model and with the help of the checkpoints, you'll be able to save the model at the end of each epoch."
   ]
  },
  {
   "cell_type": "code",
   "execution_count": 23,
   "metadata": {
    "scrolled": false
   },
   "outputs": [
    {
     "name": "stdout",
     "output_type": "stream",
     "text": [
      "Epoch 1/50\n",
      "WARNING:tensorflow:From C:\\Users\\prern\\anaconda\\lib\\site-packages\\keras\\src\\utils\\tf_utils.py:492: The name tf.ragged.RaggedTensorValue is deprecated. Please use tf.compat.v1.ragged.RaggedTensorValue instead.\n",
      "\n"
     ]
    },
    {
     "name": "stderr",
     "output_type": "stream",
     "text": [
      "WARNING:tensorflow:From C:\\Users\\prern\\anaconda\\lib\\site-packages\\keras\\src\\utils\\tf_utils.py:492: The name tf.ragged.RaggedTensorValue is deprecated. Please use tf.compat.v1.ragged.RaggedTensorValue instead.\n",
      "\n"
     ]
    },
    {
     "name": "stdout",
     "output_type": "stream",
     "text": [
      "WARNING:tensorflow:From C:\\Users\\prern\\anaconda\\lib\\site-packages\\keras\\src\\engine\\base_layer_utils.py:384: The name tf.executing_eagerly_outside_functions is deprecated. Please use tf.compat.v1.executing_eagerly_outside_functions instead.\n",
      "\n"
     ]
    },
    {
     "name": "stderr",
     "output_type": "stream",
     "text": [
      "WARNING:tensorflow:From C:\\Users\\prern\\anaconda\\lib\\site-packages\\keras\\src\\engine\\base_layer_utils.py:384: The name tf.executing_eagerly_outside_functions is deprecated. Please use tf.compat.v1.executing_eagerly_outside_functions instead.\n",
      "\n"
     ]
    },
    {
     "name": "stdout",
     "output_type": "stream",
     "text": [
      "21/21 [==============================] - ETA: 0s - loss: 1.4806 - categorical_accuracy: 0.3557\n",
      "Epoch 1: saving model to model_init_2024-01-3114_20_08.435310\\model-00001-1.48064-0.35565-1.25356-0.16406.h5\n",
      "21/21 [==============================] - 140s 6s/step - loss: 1.4806 - categorical_accuracy: 0.3557 - val_loss: 1.2536 - val_categorical_accuracy: 0.1641 - lr: 0.0010\n",
      "Epoch 2/50\n",
      "21/21 [==============================] - ETA: 0s - loss: 1.2577 - categorical_accuracy: 0.5193\n",
      "Epoch 2: saving model to model_init_2024-01-3114_20_08.435310\\model-00002-1.25767-0.51935-1.23940-0.13281.h5\n",
      "21/21 [==============================] - 80s 4s/step - loss: 1.2577 - categorical_accuracy: 0.5193 - val_loss: 1.2394 - val_categorical_accuracy: 0.1328 - lr: 0.0010\n",
      "Epoch 3/50\n",
      "21/21 [==============================] - ETA: 0s - loss: 1.0947 - categorical_accuracy: 0.5833\n",
      "Epoch 3: saving model to model_init_2024-01-3114_20_08.435310\\model-00003-1.09475-0.58333-1.24101-0.14844.h5\n",
      "21/21 [==============================] - 71s 3s/step - loss: 1.0947 - categorical_accuracy: 0.5833 - val_loss: 1.2410 - val_categorical_accuracy: 0.1484 - lr: 0.0010\n",
      "Epoch 4/50\n",
      "21/21 [==============================] - ETA: 0s - loss: 0.9842 - categorical_accuracy: 0.6205\n",
      "Epoch 4: saving model to model_init_2024-01-3114_20_08.435310\\model-00004-0.98422-0.62054-1.23820-0.14062.h5\n",
      "21/21 [==============================] - 69s 3s/step - loss: 0.9842 - categorical_accuracy: 0.6205 - val_loss: 1.2382 - val_categorical_accuracy: 0.1406 - lr: 0.0010\n",
      "Epoch 5/50\n",
      "21/21 [==============================] - ETA: 0s - loss: 0.8862 - categorical_accuracy: 0.6786\n",
      "Epoch 5: saving model to model_init_2024-01-3114_20_08.435310\\model-00005-0.88623-0.67857-1.29176-0.10156.h5\n",
      "21/21 [==============================] - 75s 4s/step - loss: 0.8862 - categorical_accuracy: 0.6786 - val_loss: 1.2918 - val_categorical_accuracy: 0.1016 - lr: 0.0010\n",
      "Epoch 6/50\n",
      "21/21 [==============================] - ETA: 0s - loss: 0.8021 - categorical_accuracy: 0.7113\n",
      "Epoch 6: saving model to model_init_2024-01-3114_20_08.435310\\model-00006-0.80213-0.71131-1.24866-0.25000.h5\n",
      "21/21 [==============================] - 71s 3s/step - loss: 0.8021 - categorical_accuracy: 0.7113 - val_loss: 1.2487 - val_categorical_accuracy: 0.2500 - lr: 0.0010\n",
      "Epoch 7/50\n",
      "21/21 [==============================] - ETA: 0s - loss: 0.7786 - categorical_accuracy: 0.7143\n",
      "Epoch 7: saving model to model_init_2024-01-3114_20_08.435310\\model-00007-0.77864-0.71429-1.24716-0.22656.h5\n",
      "21/21 [==============================] - 73s 3s/step - loss: 0.7786 - categorical_accuracy: 0.7143 - val_loss: 1.2472 - val_categorical_accuracy: 0.2266 - lr: 0.0010\n",
      "Epoch 8/50\n",
      "21/21 [==============================] - ETA: 0s - loss: 0.7493 - categorical_accuracy: 0.7068\n",
      "Epoch 8: saving model to model_init_2024-01-3114_20_08.435310\\model-00008-0.74934-0.70685-1.30520-0.17969.h5\n",
      "21/21 [==============================] - 76s 4s/step - loss: 0.7493 - categorical_accuracy: 0.7068 - val_loss: 1.3052 - val_categorical_accuracy: 0.1797 - lr: 0.0010\n",
      "Epoch 9/50\n",
      "21/21 [==============================] - ETA: 0s - loss: 0.6435 - categorical_accuracy: 0.7545\n",
      "Epoch 9: saving model to model_init_2024-01-3114_20_08.435310\\model-00009-0.64350-0.75446-1.19158-0.22656.h5\n",
      "21/21 [==============================] - 85s 4s/step - loss: 0.6435 - categorical_accuracy: 0.7545 - val_loss: 1.1916 - val_categorical_accuracy: 0.2266 - lr: 0.0010\n",
      "Epoch 10/50\n",
      "21/21 [==============================] - ETA: 0s - loss: 0.5888 - categorical_accuracy: 0.7753\n",
      "Epoch 10: saving model to model_init_2024-01-3114_20_08.435310\\model-00010-0.58880-0.77530-1.26114-0.23438.h5\n",
      "21/21 [==============================] - 79s 4s/step - loss: 0.5888 - categorical_accuracy: 0.7753 - val_loss: 1.2611 - val_categorical_accuracy: 0.2344 - lr: 0.0010\n",
      "Epoch 11/50\n",
      "21/21 [==============================] - ETA: 0s - loss: 0.5724 - categorical_accuracy: 0.7708\n",
      "Epoch 11: saving model to model_init_2024-01-3114_20_08.435310\\model-00011-0.57237-0.77083-1.26109-0.27344.h5\n",
      "21/21 [==============================] - 82s 4s/step - loss: 0.5724 - categorical_accuracy: 0.7708 - val_loss: 1.2611 - val_categorical_accuracy: 0.2734 - lr: 0.0010\n",
      "Epoch 12/50\n",
      "21/21 [==============================] - ETA: 0s - loss: 0.5381 - categorical_accuracy: 0.8095\n",
      "Epoch 12: saving model to model_init_2024-01-3114_20_08.435310\\model-00012-0.53808-0.80952-1.36793-0.24219.h5\n",
      "21/21 [==============================] - 77s 3s/step - loss: 0.5381 - categorical_accuracy: 0.8095 - val_loss: 1.3679 - val_categorical_accuracy: 0.2422 - lr: 0.0010\n",
      "Epoch 13/50\n",
      "21/21 [==============================] - ETA: 0s - loss: 0.4703 - categorical_accuracy: 0.8348\n",
      "Epoch 13: saving model to model_init_2024-01-3114_20_08.435310\\model-00013-0.47027-0.83482-1.30017-0.27344.h5\n",
      "21/21 [==============================] - 73s 3s/step - loss: 0.4703 - categorical_accuracy: 0.8348 - val_loss: 1.3002 - val_categorical_accuracy: 0.2734 - lr: 0.0010\n",
      "Epoch 14/50\n",
      "21/21 [==============================] - ETA: 0s - loss: 0.4597 - categorical_accuracy: 0.8393\n",
      "Epoch 14: saving model to model_init_2024-01-3114_20_08.435310\\model-00014-0.45973-0.83929-1.37294-0.28125.h5\n",
      "21/21 [==============================] - 72s 3s/step - loss: 0.4597 - categorical_accuracy: 0.8393 - val_loss: 1.3729 - val_categorical_accuracy: 0.2812 - lr: 0.0010\n",
      "Epoch 15/50\n",
      "21/21 [==============================] - ETA: 0s - loss: 0.4031 - categorical_accuracy: 0.8586\n",
      "Epoch 15: saving model to model_init_2024-01-3114_20_08.435310\\model-00015-0.40309-0.85863-1.70906-0.25781.h5\n",
      "21/21 [==============================] - 73s 3s/step - loss: 0.4031 - categorical_accuracy: 0.8586 - val_loss: 1.7091 - val_categorical_accuracy: 0.2578 - lr: 0.0010\n",
      "Epoch 16/50\n",
      "21/21 [==============================] - ETA: 0s - loss: 0.4168 - categorical_accuracy: 0.8542\n",
      "Epoch 16: saving model to model_init_2024-01-3114_20_08.435310\\model-00016-0.41683-0.85417-1.47987-0.28906.h5\n",
      "21/21 [==============================] - 75s 3s/step - loss: 0.4168 - categorical_accuracy: 0.8542 - val_loss: 1.4799 - val_categorical_accuracy: 0.2891 - lr: 0.0010\n",
      "Epoch 17/50\n",
      "21/21 [==============================] - ETA: 0s - loss: 0.4176 - categorical_accuracy: 0.8616\n",
      "Epoch 17: saving model to model_init_2024-01-3114_20_08.435310\\model-00017-0.41755-0.86161-1.62362-0.34375.h5\n",
      "21/21 [==============================] - 79s 4s/step - loss: 0.4176 - categorical_accuracy: 0.8616 - val_loss: 1.6236 - val_categorical_accuracy: 0.3438 - lr: 0.0010\n",
      "Epoch 18/50\n",
      "21/21 [==============================] - ETA: 0s - loss: 0.4163 - categorical_accuracy: 0.8363\n",
      "Epoch 18: saving model to model_init_2024-01-3114_20_08.435310\\model-00018-0.41631-0.83631-1.98969-0.21094.h5\n",
      "21/21 [==============================] - 80s 4s/step - loss: 0.4163 - categorical_accuracy: 0.8363 - val_loss: 1.9897 - val_categorical_accuracy: 0.2109 - lr: 0.0010\n",
      "Epoch 19/50\n",
      "21/21 [==============================] - ETA: 0s - loss: 0.3544 - categorical_accuracy: 0.8705\n",
      "Epoch 19: saving model to model_init_2024-01-3114_20_08.435310\\model-00019-0.35442-0.87054-1.66234-0.31250.h5\n",
      "21/21 [==============================] - 75s 4s/step - loss: 0.3544 - categorical_accuracy: 0.8705 - val_loss: 1.6623 - val_categorical_accuracy: 0.3125 - lr: 0.0010\n",
      "Epoch 20/50\n",
      "21/21 [==============================] - ETA: 0s - loss: 0.3513 - categorical_accuracy: 0.8735\n",
      "Epoch 20: saving model to model_init_2024-01-3114_20_08.435310\\model-00020-0.35127-0.87351-1.69512-0.50781.h5\n",
      "21/21 [==============================] - 75s 4s/step - loss: 0.3513 - categorical_accuracy: 0.8735 - val_loss: 1.6951 - val_categorical_accuracy: 0.5078 - lr: 0.0010\n",
      "Epoch 21/50\n",
      "21/21 [==============================] - ETA: 0s - loss: 0.3231 - categorical_accuracy: 0.8854\n",
      "Epoch 21: saving model to model_init_2024-01-3114_20_08.435310\\model-00021-0.32314-0.88542-1.63418-0.58594.h5\n",
      "21/21 [==============================] - 75s 4s/step - loss: 0.3231 - categorical_accuracy: 0.8854 - val_loss: 1.6342 - val_categorical_accuracy: 0.5859 - lr: 0.0010\n",
      "Epoch 22/50\n",
      "21/21 [==============================] - ETA: 0s - loss: 0.3146 - categorical_accuracy: 0.8943\n",
      "Epoch 22: saving model to model_init_2024-01-3114_20_08.435310\\model-00022-0.31462-0.89435-1.84049-0.56250.h5\n"
     ]
    },
    {
     "name": "stdout",
     "output_type": "stream",
     "text": [
      "21/21 [==============================] - 76s 4s/step - loss: 0.3146 - categorical_accuracy: 0.8943 - val_loss: 1.8405 - val_categorical_accuracy: 0.5625 - lr: 0.0010\n",
      "Epoch 23/50\n",
      "21/21 [==============================] - ETA: 0s - loss: 0.3025 - categorical_accuracy: 0.8914\n",
      "Epoch 23: saving model to model_init_2024-01-3114_20_08.435310\\model-00023-0.30251-0.89137-1.37207-0.60156.h5\n",
      "21/21 [==============================] - 93s 4s/step - loss: 0.3025 - categorical_accuracy: 0.8914 - val_loss: 1.3721 - val_categorical_accuracy: 0.6016 - lr: 0.0010\n",
      "Epoch 24/50\n",
      "21/21 [==============================] - ETA: 0s - loss: 0.2731 - categorical_accuracy: 0.9092\n",
      "Epoch 24: saving model to model_init_2024-01-3114_20_08.435310\\model-00024-0.27314-0.90923-1.41700-0.53125.h5\n",
      "21/21 [==============================] - 93s 4s/step - loss: 0.2731 - categorical_accuracy: 0.9092 - val_loss: 1.4170 - val_categorical_accuracy: 0.5312 - lr: 0.0010\n",
      "Epoch 25/50\n",
      "21/21 [==============================] - ETA: 0s - loss: 0.2708 - categorical_accuracy: 0.9033\n",
      "Epoch 25: saving model to model_init_2024-01-3114_20_08.435310\\model-00025-0.27082-0.90327-1.02656-0.59375.h5\n",
      "21/21 [==============================] - 89s 4s/step - loss: 0.2708 - categorical_accuracy: 0.9033 - val_loss: 1.0266 - val_categorical_accuracy: 0.5938 - lr: 0.0010\n",
      "Epoch 26/50\n",
      "21/21 [==============================] - ETA: 0s - loss: 0.2713 - categorical_accuracy: 0.9003\n",
      "Epoch 26: saving model to model_init_2024-01-3114_20_08.435310\\model-00026-0.27127-0.90030-1.49288-0.58594.h5\n",
      "21/21 [==============================] - 90s 4s/step - loss: 0.2713 - categorical_accuracy: 0.9003 - val_loss: 1.4929 - val_categorical_accuracy: 0.5859 - lr: 0.0010\n",
      "Epoch 27/50\n",
      "21/21 [==============================] - ETA: 0s - loss: 0.2407 - categorical_accuracy: 0.9033\n",
      "Epoch 27: saving model to model_init_2024-01-3114_20_08.435310\\model-00027-0.24067-0.90327-0.46042-0.83594.h5\n",
      "21/21 [==============================] - 90s 4s/step - loss: 0.2407 - categorical_accuracy: 0.9033 - val_loss: 0.4604 - val_categorical_accuracy: 0.8359 - lr: 0.0010\n",
      "Epoch 28/50\n",
      "21/21 [==============================] - ETA: 0s - loss: 0.4456 - categorical_accuracy: 0.8333\n",
      "Epoch 28: saving model to model_init_2024-01-3114_20_08.435310\\model-00028-0.44555-0.83333-1.35458-0.70312.h5\n",
      "21/21 [==============================] - 91s 4s/step - loss: 0.4456 - categorical_accuracy: 0.8333 - val_loss: 1.3546 - val_categorical_accuracy: 0.7031 - lr: 0.0010\n",
      "Epoch 29/50\n",
      "21/21 [==============================] - ETA: 0s - loss: 0.3878 - categorical_accuracy: 0.8408\n",
      "Epoch 29: saving model to model_init_2024-01-3114_20_08.435310\\model-00029-0.38785-0.84077-1.83585-0.34375.h5\n",
      "21/21 [==============================] - 93s 4s/step - loss: 0.3878 - categorical_accuracy: 0.8408 - val_loss: 1.8358 - val_categorical_accuracy: 0.3438 - lr: 0.0010\n",
      "Epoch 30/50\n",
      "21/21 [==============================] - ETA: 0s - loss: 0.3593 - categorical_accuracy: 0.8557\n",
      "Epoch 30: saving model to model_init_2024-01-3114_20_08.435310\\model-00030-0.35926-0.85565-1.05859-0.64844.h5\n",
      "21/21 [==============================] - 101s 5s/step - loss: 0.3593 - categorical_accuracy: 0.8557 - val_loss: 1.0586 - val_categorical_accuracy: 0.6484 - lr: 0.0010\n",
      "Epoch 31/50\n",
      "21/21 [==============================] - ETA: 0s - loss: 0.3160 - categorical_accuracy: 0.8676\n",
      "Epoch 31: saving model to model_init_2024-01-3114_20_08.435310\\model-00031-0.31598-0.86756-0.67483-0.80469.h5\n",
      "21/21 [==============================] - 94s 4s/step - loss: 0.3160 - categorical_accuracy: 0.8676 - val_loss: 0.6748 - val_categorical_accuracy: 0.8047 - lr: 0.0010\n",
      "Epoch 32/50\n",
      "21/21 [==============================] - ETA: 0s - loss: 0.2705 - categorical_accuracy: 0.8884\n",
      "Epoch 32: saving model to model_init_2024-01-3114_20_08.435310\\model-00032-0.27047-0.88839-0.85804-0.72656.h5\n",
      "21/21 [==============================] - 91s 4s/step - loss: 0.2705 - categorical_accuracy: 0.8884 - val_loss: 0.8580 - val_categorical_accuracy: 0.7266 - lr: 0.0010\n",
      "Epoch 33/50\n",
      "21/21 [==============================] - ETA: 0s - loss: 0.2600 - categorical_accuracy: 0.9033\n",
      "Epoch 33: saving model to model_init_2024-01-3114_20_08.435310\\model-00033-0.25997-0.90327-0.71261-0.74219.h5\n",
      "21/21 [==============================] - 95s 4s/step - loss: 0.2600 - categorical_accuracy: 0.9033 - val_loss: 0.7126 - val_categorical_accuracy: 0.7422 - lr: 0.0010\n",
      "Epoch 34/50\n",
      "21/21 [==============================] - ETA: 0s - loss: 0.2601 - categorical_accuracy: 0.8958\n",
      "Epoch 34: saving model to model_init_2024-01-3114_20_08.435310\\model-00034-0.26009-0.89583-0.70765-0.71875.h5\n",
      "21/21 [==============================] - 11488s 574s/step - loss: 0.2601 - categorical_accuracy: 0.8958 - val_loss: 0.7077 - val_categorical_accuracy: 0.7188 - lr: 0.0010\n",
      "Epoch 35/50\n",
      "21/21 [==============================] - ETA: 0s - loss: 0.2562 - categorical_accuracy: 0.9182\n",
      "Epoch 35: saving model to model_init_2024-01-3114_20_08.435310\\model-00035-0.25618-0.91815-0.66400-0.76562.h5\n",
      "21/21 [==============================] - 200s 6s/step - loss: 0.2562 - categorical_accuracy: 0.9182 - val_loss: 0.6640 - val_categorical_accuracy: 0.7656 - lr: 0.0010\n",
      "Epoch 36/50\n",
      "21/21 [==============================] - ETA: 0s - loss: 0.2296 - categorical_accuracy: 0.9092\n",
      "Epoch 36: saving model to model_init_2024-01-3114_20_08.435310\\model-00036-0.22955-0.90923-0.68136-0.77344.h5\n",
      "21/21 [==============================] - 131s 6s/step - loss: 0.2296 - categorical_accuracy: 0.9092 - val_loss: 0.6814 - val_categorical_accuracy: 0.7734 - lr: 0.0010\n",
      "Epoch 37/50\n",
      "21/21 [==============================] - ETA: 0s - loss: 0.2198 - categorical_accuracy: 0.9062\n",
      "Epoch 37: saving model to model_init_2024-01-3114_20_08.435310\\model-00037-0.21975-0.90625-0.44525-0.78125.h5\n",
      "21/21 [==============================] - 120s 6s/step - loss: 0.2198 - categorical_accuracy: 0.9062 - val_loss: 0.4452 - val_categorical_accuracy: 0.7812 - lr: 0.0010\n",
      "Epoch 38/50\n",
      "21/21 [==============================] - ETA: 0s - loss: 0.2045 - categorical_accuracy: 0.9256\n",
      "Epoch 38: saving model to model_init_2024-01-3114_20_08.435310\\model-00038-0.20450-0.92560-0.43205-0.86719.h5\n",
      "21/21 [==============================] - 117s 5s/step - loss: 0.2045 - categorical_accuracy: 0.9256 - val_loss: 0.4320 - val_categorical_accuracy: 0.8672 - lr: 0.0010\n",
      "Epoch 39/50\n",
      "21/21 [==============================] - ETA: 0s - loss: 0.2340 - categorical_accuracy: 0.9241\n",
      "Epoch 39: saving model to model_init_2024-01-3114_20_08.435310\\model-00039-0.23401-0.92411-0.40681-0.85156.h5\n",
      "21/21 [==============================] - 110s 5s/step - loss: 0.2340 - categorical_accuracy: 0.9241 - val_loss: 0.4068 - val_categorical_accuracy: 0.8516 - lr: 0.0010\n",
      "Epoch 40/50\n",
      "21/21 [==============================] - ETA: 0s - loss: 0.2346 - categorical_accuracy: 0.9003\n",
      "Epoch 40: saving model to model_init_2024-01-3114_20_08.435310\\model-00040-0.23459-0.90030-0.43373-0.60938.h5\n",
      "21/21 [==============================] - 106s 5s/step - loss: 0.2346 - categorical_accuracy: 0.9003 - val_loss: 0.4337 - val_categorical_accuracy: 0.6094 - lr: 0.0010\n",
      "Epoch 41/50\n",
      "21/21 [==============================] - ETA: 0s - loss: 0.2263 - categorical_accuracy: 0.8958\n",
      "Epoch 41: saving model to model_init_2024-01-3114_20_08.435310\\model-00041-0.22628-0.89583-0.58185-0.77344.h5\n",
      "21/21 [==============================] - 107s 5s/step - loss: 0.2263 - categorical_accuracy: 0.8958 - val_loss: 0.5818 - val_categorical_accuracy: 0.7734 - lr: 0.0010\n",
      "Epoch 42/50\n",
      "21/21 [==============================] - ETA: 0s - loss: 0.2048 - categorical_accuracy: 0.9152\n",
      "Epoch 42: saving model to model_init_2024-01-3114_20_08.435310\\model-00042-0.20484-0.91518-0.68270-0.75781.h5\n",
      "21/21 [==============================] - 104s 5s/step - loss: 0.2048 - categorical_accuracy: 0.9152 - val_loss: 0.6827 - val_categorical_accuracy: 0.7578 - lr: 0.0010\n",
      "Epoch 43/50\n",
      "21/21 [==============================] - ETA: 0s - loss: 0.2708 - categorical_accuracy: 0.8854\n",
      "Epoch 43: saving model to model_init_2024-01-3114_20_08.435310\\model-00043-0.27081-0.88542-0.42642-0.81250.h5\n",
      "21/21 [==============================] - 139s 6s/step - loss: 0.2708 - categorical_accuracy: 0.8854 - val_loss: 0.4264 - val_categorical_accuracy: 0.8125 - lr: 0.0010\n"
     ]
    },
    {
     "name": "stdout",
     "output_type": "stream",
     "text": [
      "Epoch 44/50\n",
      "21/21 [==============================] - ETA: 0s - loss: 0.2506 - categorical_accuracy: 0.8988\n",
      "Epoch 44: saving model to model_init_2024-01-3114_20_08.435310\\model-00044-0.25057-0.89881-0.75817-0.74219.h5\n",
      "21/21 [==============================] - 175s 8s/step - loss: 0.2506 - categorical_accuracy: 0.8988 - val_loss: 0.7582 - val_categorical_accuracy: 0.7422 - lr: 0.0010\n",
      "Epoch 45/50\n",
      "21/21 [==============================] - ETA: 0s - loss: 0.2610 - categorical_accuracy: 0.8824\n",
      "Epoch 45: saving model to model_init_2024-01-3114_20_08.435310\\model-00045-0.26104-0.88244-0.52333-0.60156.h5\n",
      "21/21 [==============================] - 135s 6s/step - loss: 0.2610 - categorical_accuracy: 0.8824 - val_loss: 0.5233 - val_categorical_accuracy: 0.6016 - lr: 0.0010\n",
      "Epoch 46/50\n",
      "21/21 [==============================] - ETA: 0s - loss: 0.2338 - categorical_accuracy: 0.8943\n",
      "Epoch 46: saving model to model_init_2024-01-3114_20_08.435310\\model-00046-0.23382-0.89435-0.58527-0.54688.h5\n",
      "21/21 [==============================] - 111s 5s/step - loss: 0.2338 - categorical_accuracy: 0.8943 - val_loss: 0.5853 - val_categorical_accuracy: 0.5469 - lr: 0.0010\n",
      "Epoch 47/50\n",
      "21/21 [==============================] - ETA: 0s - loss: 0.2061 - categorical_accuracy: 0.9048\n",
      "Epoch 47: saving model to model_init_2024-01-3114_20_08.435310\\model-00047-0.20612-0.90476-0.54826-0.79688.h5\n",
      "21/21 [==============================] - 126s 6s/step - loss: 0.2061 - categorical_accuracy: 0.9048 - val_loss: 0.5483 - val_categorical_accuracy: 0.7969 - lr: 0.0010\n",
      "Epoch 48/50\n",
      "21/21 [==============================] - ETA: 0s - loss: 0.2608 - categorical_accuracy: 0.8884\n",
      "Epoch 48: saving model to model_init_2024-01-3114_20_08.435310\\model-00048-0.26082-0.88839-1.02832-0.67188.h5\n",
      "21/21 [==============================] - 115s 5s/step - loss: 0.2608 - categorical_accuracy: 0.8884 - val_loss: 1.0283 - val_categorical_accuracy: 0.6719 - lr: 0.0010\n",
      "Epoch 49/50\n",
      "21/21 [==============================] - ETA: 0s - loss: 0.2281 - categorical_accuracy: 0.9048\n",
      "Epoch 49: saving model to model_init_2024-01-3114_20_08.435310\\model-00049-0.22809-0.90476-0.43649-0.80469.h5\n",
      "21/21 [==============================] - 120s 6s/step - loss: 0.2281 - categorical_accuracy: 0.9048 - val_loss: 0.4365 - val_categorical_accuracy: 0.8047 - lr: 0.0010\n",
      "Epoch 50/50\n",
      "21/21 [==============================] - ETA: 0s - loss: 0.2077 - categorical_accuracy: 0.9315\n",
      "Epoch 50: saving model to model_init_2024-01-3114_20_08.435310\\model-00050-0.20775-0.93155-0.85672-0.71094.h5\n",
      "21/21 [==============================] - 119s 5s/step - loss: 0.2077 - categorical_accuracy: 0.9315 - val_loss: 0.8567 - val_categorical_accuracy: 0.7109 - lr: 0.0010\n"
     ]
    },
    {
     "data": {
      "text/plain": [
       "<keras.src.callbacks.History at 0x17d60e1d720>"
      ]
     },
     "execution_count": 23,
     "metadata": {},
     "output_type": "execute_result"
    }
   ],
   "source": [
    "model.fit_generator(train_generator, steps_per_epoch=steps_per_epoch, epochs=num_epochs, verbose=1, \n",
    "                        callbacks=callbacks_list, validation_data=val_generator, \n",
    "                        validation_steps=validation_steps, class_weight=None, workers=1, initial_epoch=0)"
   ]
  },
  {
   "cell_type": "code",
   "execution_count": null,
   "metadata": {},
   "outputs": [],
   "source": []
  }
 ],
 "metadata": {
  "kernelspec": {
   "display_name": "Python 3 (ipykernel)",
   "language": "python",
   "name": "python3"
  },
  "language_info": {
   "codemirror_mode": {
    "name": "ipython",
    "version": 3
   },
   "file_extension": ".py",
   "mimetype": "text/x-python",
   "name": "python",
   "nbconvert_exporter": "python",
   "pygments_lexer": "ipython3",
   "version": "3.10.9"
  }
 },
 "nbformat": 4,
 "nbformat_minor": 2
}
